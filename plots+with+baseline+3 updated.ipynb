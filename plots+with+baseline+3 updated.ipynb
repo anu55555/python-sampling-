{
 "cells": [
  {
   "cell_type": "code",
   "execution_count": 1,
   "metadata": {
    "collapsed": false
   },
   "outputs": [
    {
     "data": {
      "text/plain": [
       "(8143, 7)"
      ]
     },
     "execution_count": 1,
     "metadata": {},
     "output_type": "execute_result"
    }
   ],
   "source": [
    "import pandas as pd\n",
    "import numpy as np\n",
    "import matplotlib as plt\n",
    "%matplotlib inline\n",
    "df=pd.read_table('C:\\\\Users\\\\Siddy\\\\Desktop\\\\occupancy_data\\\\datatraining.txt', sep=',')\n",
    "df.dtypes\n",
    "df.shape"
   ]
  },
  {
   "cell_type": "code",
   "execution_count": 2,
   "metadata": {
    "collapsed": true
   },
   "outputs": [],
   "source": [
    "df['date']=pd.to_datetime(df.date) #I have converted to datetime so we can use maths with datetime"
   ]
  },
  {
   "cell_type": "code",
   "execution_count": 3,
   "metadata": {
    "collapsed": false
   },
   "outputs": [
    {
     "data": {
      "text/html": [
       "<div>\n",
       "<table border=\"1\" class=\"dataframe\">\n",
       "  <thead>\n",
       "    <tr style=\"text-align: right;\">\n",
       "      <th></th>\n",
       "      <th>date</th>\n",
       "      <th>Temperature</th>\n",
       "      <th>Humidity</th>\n",
       "      <th>Light</th>\n",
       "      <th>CO2</th>\n",
       "      <th>HumidityRatio</th>\n",
       "      <th>Occupancy</th>\n",
       "    </tr>\n",
       "  </thead>\n",
       "  <tbody>\n",
       "    <tr>\n",
       "      <th>0</th>\n",
       "      <td>2015-02-04 17:51:00</td>\n",
       "      <td>23.18</td>\n",
       "      <td>27.2720</td>\n",
       "      <td>426.0</td>\n",
       "      <td>721.25</td>\n",
       "      <td>0.004793</td>\n",
       "      <td>1</td>\n",
       "    </tr>\n",
       "    <tr>\n",
       "      <th>1</th>\n",
       "      <td>2015-02-04 17:51:59</td>\n",
       "      <td>23.15</td>\n",
       "      <td>27.2675</td>\n",
       "      <td>429.5</td>\n",
       "      <td>714.00</td>\n",
       "      <td>0.004783</td>\n",
       "      <td>1</td>\n",
       "    </tr>\n",
       "  </tbody>\n",
       "</table>\n",
       "</div>"
      ],
      "text/plain": [
       "                 date  Temperature  Humidity  Light     CO2  HumidityRatio  \\\n",
       "0 2015-02-04 17:51:00        23.18   27.2720  426.0  721.25       0.004793   \n",
       "1 2015-02-04 17:51:59        23.15   27.2675  429.5  714.00       0.004783   \n",
       "\n",
       "   Occupancy  \n",
       "0          1  \n",
       "1          1  "
      ]
     },
     "execution_count": 3,
     "metadata": {},
     "output_type": "execute_result"
    }
   ],
   "source": [
    "ts=pd.to_datetime('2/2/2015')\n",
    "df.reset_index(inplace=True)\n",
    "del df['index']\n",
    "df.head(2)"
   ]
  },
  {
   "cell_type": "code",
   "execution_count": 4,
   "metadata": {
    "collapsed": true
   },
   "outputs": [],
   "source": [
    "feature_cols=['Temperature', 'Humidity', 'Light', 'CO2']\n",
    "from sklearn import svm\n",
    "import matplotlib.pyplot as plt\n",
    "from sklearn import model_selection\n",
    "from sklearn.metrics import classification_report\n",
    "from sklearn.metrics import confusion_matrix\n",
    "from sklearn.metrics import roc_auc_score\n",
    "from sklearn.metrics import precision_score\n",
    "from sklearn.metrics import recall_score\n",
    "from sklearn.metrics import f1_score\n",
    "from sklearn.metrics import accuracy_score\n",
    "from sklearn.linear_model import LogisticRegression\n",
    "logreg=LogisticRegression()\n",
    "from sklearn.tree import DecisionTreeClassifier\n",
    "from sklearn.neighbors import KNeighborsClassifier\n",
    "from sklearn import metrics\n",
    "import random"
   ]
  },
  {
   "cell_type": "code",
   "execution_count": 5,
   "metadata": {
    "collapsed": true
   },
   "outputs": [],
   "source": [
    "import random\n",
    "reservoir=[]\n",
    "def reservoir_sample(dfo,size):\n",
    "        for index, row in dfo.iterrows():\n",
    "                    if index<=size:\n",
    "                            reservoir.append(row)\n",
    "                    elif index >= size and random.random() < size/float(index+1):\n",
    "                            replace = random.randint(0,size-1)\n",
    "                            reservoir[replace] = (row)\n",
    "        return reservoir"
   ]
  },
  {
   "cell_type": "code",
   "execution_count": 11,
   "metadata": {
    "collapsed": false
   },
   "outputs": [
    {
     "name": "stdout",
     "output_type": "stream",
     "text": [
      "                  date  Temperature  Humidity  Light         CO2  \\\n",
      "80 2015-02-04 19:11:00       22.200     27.29    0.0  594.333333   \n",
      "10 2015-02-04 18:01:00       23.075     27.15  419.0  690.250000   \n",
      "\n",
      "    HumidityRatio  Occupancy  \n",
      "80       0.004517          0  \n",
      "10       0.004741          1  \n",
      "                    date  Temperature  Humidity  Light          CO2  \\\n",
      "1548 2015-02-05 19:38:59    21.150000     19.65    0.0   520.000000   \n",
      "1265 2015-02-05 14:55:59    22.426667     28.20  543.0  1066.333333   \n",
      "\n",
      "      HumidityRatio  Occupancy  \n",
      "1548       0.003043          0  \n",
      "1265       0.004734          1  \n",
      "                    date  Temperature  Humidity  Light          CO2  \\\n",
      "1548 2015-02-05 19:38:59    21.150000     19.65    0.0   520.000000   \n",
      "1265 2015-02-05 14:55:59    22.426667     28.20  543.0  1066.333333   \n",
      "\n",
      "      HumidityRatio  Occupancy  \n",
      "1548       0.003043          0  \n",
      "1265       0.004734          1  \n",
      "                    date  Temperature  Humidity  Light          CO2  \\\n",
      "1548 2015-02-05 19:38:59    21.150000     19.65    0.0   520.000000   \n",
      "1265 2015-02-05 14:55:59    22.426667     28.20  543.0  1066.333333   \n",
      "\n",
      "      HumidityRatio  Occupancy  \n",
      "1548       0.003043          0  \n",
      "1265       0.004734          1  \n"
     ]
    },
    {
     "name": "stderr",
     "output_type": "stream",
     "text": [
      "C:\\anaconda\\lib\\site-packages\\sklearn\\metrics\\classification.py:1115: UndefinedMetricWarning: Recall is ill-defined and being set to 0.0 due to no true samples.\n",
      "  'recall', 'true', average, warn_for)\n",
      "C:\\anaconda\\lib\\site-packages\\sklearn\\metrics\\classification.py:1115: UndefinedMetricWarning: F-score is ill-defined and being set to 0.0 due to no true samples.\n",
      "  'recall', 'true', average, warn_for)\n"
     ]
    },
    {
     "name": "stdout",
     "output_type": "stream",
     "text": [
      "                    date  Temperature  Humidity  Light          CO2  \\\n",
      "3951 2015-02-07 11:42:00    22.700000      17.6  349.0   458.000000   \n",
      "1265 2015-02-05 14:55:59    22.426667      28.2  543.0  1066.333333   \n",
      "\n",
      "      HumidityRatio  Occupancy  \n",
      "3951       0.002996          0  \n",
      "1265       0.004734          1  \n",
      "                    date  Temperature  Humidity  Light          CO2  \\\n",
      "3951 2015-02-07 11:42:00    22.700000      17.6  349.0   458.000000   \n",
      "1265 2015-02-05 14:55:59    22.426667      28.2  543.0  1066.333333   \n",
      "\n",
      "      HumidityRatio  Occupancy  \n",
      "3951       0.002996          0  \n",
      "1265       0.004734          1  \n",
      "                    date  Temperature  Humidity  Light          CO2  \\\n",
      "3951 2015-02-07 11:42:00    22.700000      17.6  349.0   458.000000   \n",
      "1265 2015-02-05 14:55:59    22.426667      28.2  543.0  1066.333333   \n",
      "\n",
      "      HumidityRatio  Occupancy  \n",
      "3951       0.002996          0  \n",
      "1265       0.004734          1  \n",
      "                    date  Temperature  Humidity  Light    CO2  HumidityRatio  \\\n",
      "6261 2015-02-09 02:12:00        19.39    26.890    0.0  471.0       0.003739   \n",
      "5922 2015-02-08 20:32:59        19.39    27.445    0.0  443.5       0.003817   \n",
      "\n",
      "      Occupancy  \n",
      "6261          0  \n",
      "5922          0  \n",
      "                    date  Temperature  Humidity  Light    CO2  HumidityRatio  \\\n",
      "6261 2015-02-09 02:12:00        19.39    26.890    0.0  471.0       0.003739   \n",
      "5922 2015-02-08 20:32:59        19.39    27.445    0.0  443.5       0.003817   \n",
      "\n",
      "      Occupancy  \n",
      "6261          0  \n",
      "5922          0  \n",
      "                    date  Temperature  Humidity  Light    CO2  HumidityRatio  \\\n",
      "6261 2015-02-09 02:12:00        19.39    26.890    0.0  471.0       0.003739   \n",
      "5922 2015-02-08 20:32:59        19.39    27.445    0.0  443.5       0.003817   \n",
      "\n",
      "      Occupancy  \n",
      "6261          0  \n",
      "5922          0  \n",
      "All done\n"
     ]
    }
   ],
   "source": [
    "df_test=pd.DataFrame()\n",
    "max_size=len(df)\n",
    "chunk_count=10\n",
    "all_chunks=[]\n",
    "nxt_chunks=[]\n",
    "AccuScore=[]\n",
    "PreScore=[]\n",
    "RScore=[]\n",
    "f1score=[]\n",
    "i=0\n",
    "j=1\n",
    "chunk_size=int(round(max_size/chunk_count))\n",
    "for i in range (chunk_count):\n",
    "    idx_start=chunk_size*i\n",
    "    idx_end=min(idx_start+chunk_size,max_size)\n",
    "    nxt_idx_start=chunk_size*(i+1)\n",
    "    nxt_idx_end=min(nxt_idx_start+chunk_size,max_size)\n",
    "    all_chunks.append(df.iloc[idx_start:idx_end])\n",
    "    nxt_chunks.append(df.iloc[nxt_idx_start:nxt_idx_end])\n",
    "    df_sample=pd.DataFrame(reservoir_sample(all_chunks[i],5))\n",
    "    df_test=nxt_chunks[i]\n",
    "    print (df_sample.head(2))\n",
    "    df1_train_x=df_sample[feature_cols]                           \n",
    "    df1_train_y=df_sample.Occupancy\n",
    "    logreg.fit(df1_train_x,df1_train_y)\n",
    "    df1_test_x=df_test[feature_cols]\n",
    "    df1_test_y=df_test.Occupancy\n",
    "    y_pred=logreg.predict(df1_test_x)\n",
    "    Ascore=metrics.accuracy_score(df1_test_y,y_pred)\n",
    "    pscore=metrics.precision_score(df1_test_y,y_pred)\n",
    "    rcscore=metrics.recall_score(df1_test_y,y_pred)\n",
    "    fscore=metrics.f1_score(df1_test_y,y_pred)\n",
    "    AccuScore.append(Ascore)\n",
    "    PreScore.append(pscore)\n",
    "    RScore.append(rcscore)\n",
    "    f1score.append(fscore)\n",
    "print('All done')\n"
   ]
  },
  {
   "cell_type": "code",
   "execution_count": 9,
   "metadata": {
    "collapsed": false
   },
   "outputs": [
    {
     "name": "stdout",
     "output_type": "stream",
     "text": [
      "[0.92014742014742013, 0.9901719901719902, 0.98771498771498767, 0.6744471744471745, 0.9508599508599509, 0.88083538083538082, 1.0, 0.77027027027027029, 0.99631449631449631, 1.0]\n",
      "[0.89368770764119598, 0.95375722543352603, 0.97679814385150809, 0.0, 0.0, 0.0, 0.0, 0.99150141643059486, 0.94444444444444442, 1.0]\n",
      "[0.99814471243042668, 1.0, 1.0, 0.0, 0.0, 0.0, 0.0, 0.65543071161048694, 1.0, 1.0]\n",
      "[0.94303242769500428, 0.97633136094674555, 0.98826291079812201, 0.0, 0.0, 0.0, 0.0, 0.78917700112739575, 0.97142857142857142, 1.0]\n"
     ]
    }
   ],
   "source": [
    "print(AccuScore)\n",
    "print(PreScore)\n",
    "print(RScore)\n",
    "print(f1score)\n",
    "allchunkssizes=[0,814,1628,2442,3256,4070,4884,5698,6512,7326]"
   ]
  },
  {
   "cell_type": "code",
   "execution_count": 10,
   "metadata": {
    "collapsed": false
   },
   "outputs": [
    {
     "data": {
      "image/png": "[encoded data removed]",
      "text/plain": [
       "<matplotlib.figure.Figure at 0xbd3fbf0>"
      ]
     },
     "metadata": {},
     "output_type": "display_data"
    }
   ],
   "source": [
    "plt.plot(allchunkssizes,AccuScore,'r--')\n",
    "plt.plot(allchunkssizes,PreScore,'g--')\n",
    "plt.plot(allchunkssizes,RScore,'bs')\n",
    "plt.plot(allchunkssizes,f1score,'r')\n",
    "plt.title('Logistic regression Accuracy Measures')\n",
    "plt.ylabel('Score')\n",
    "plt.xlabel('Number of events')\n",
    "plt.show()"
   ]
  },
  {
   "cell_type": "code",
   "execution_count": null,
   "metadata": {
    "collapsed": true
   },
   "outputs": [],
   "source": []
  }
 ],
 "metadata": {
  "kernelspec": {
   "display_name": "Python 3",
   "language": "python",
   "name": "python3"
  },
  "language_info": {
   "codemirror_mode": {
    "name": "ipython",
    "version": 3
   },
   "file_extension": ".py",
   "mimetype": "text/x-python",
   "name": "python",
   "nbconvert_exporter": "python",
   "pygments_lexer": "ipython3",
   "version": "3.6.0"
  }
 },
 "nbformat": 4,
 "nbformat_minor": 2
}
